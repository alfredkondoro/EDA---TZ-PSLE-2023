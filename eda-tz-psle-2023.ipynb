{
 "cells": [
  {
   "cell_type": "markdown",
   "id": "d7a8df5c",
   "metadata": {
    "papermill": {
     "duration": 0.002825,
     "end_time": "2024-01-01T08:43:50.379277",
     "exception": false,
     "start_time": "2024-01-01T08:43:50.376452",
     "status": "completed"
    },
    "tags": []
   },
   "source": [
    "## **Exploring Tanzania Primary School Leaving Examination 2023**"
   ]
  },
  {
   "cell_type": "markdown",
   "id": "4fe1f8a6",
   "metadata": {
    "papermill": {
     "duration": 0.001871,
     "end_time": "2024-01-01T08:43:50.383593",
     "exception": false,
     "start_time": "2024-01-01T08:43:50.381722",
     "status": "completed"
    },
    "tags": []
   },
   "source": [
    "### Intro\n",
    "\n",
    "Welcome to the exploration of the Tanzania Primary School Leaving Examination (PSLE) dataset for the year 2023. This comprehensive dataset captures the academic performance of primary school students across multiple subjects, providing invaluable insights into their educational journey.\n",
    "\n",
    "The PSLE is a critical milestone in the academic life of Tanzanian students, marking the culmination of their primary education. It serves as a foundational assessment, evaluating their proficiency in subjects such as English, Swahili, Social Studies, Science, and Civics. Beyond mere grades, this examination reflects the culmination of their efforts, dedication, and the effectiveness of educational strategies.\n",
    "\n",
    "In this notebook, we delve into the multifaceted aspects of this dataset to unravel patterns, trends, and nuances that contribute to a deeper understanding of student performance and educational dynamics. By analyzing the performance metrics, demographic information, and subject-wise evaluations, we aim to extract actionable insights that could potentially drive improvements in the educational system.\n",
    "\n",
    "1. Are there any missing values in the dataset? How prevalent are they?\n",
    "2. Are there any inconsistencies or irregularities in the data (e.g., repeated registration numbers, unusual patterns)?\n",
    "3. What is the distribution of average scores across subjects?\n",
    "4. Are there any noticeable patterns or outliers in the distribution of scores?\n",
    "5. Is there any correlation between performance in different subjects?\n",
    "6. Do students who perform well in English tend to perform well in other subjects like Swahili, Science, or Social Studies?\n",
    "7. Is there a difference in average performance between genders?\n",
    "8. Are certain subjects more favored by one gender over the other?\n",
    "9. Are there any subjects where the majority of students perform poorly?\n",
    "10. Is there any particular range or pattern in the registration numbers?\n",
    "11. Are there any segments or groups among students based on registration numbers?"
   ]
  },
  {
   "cell_type": "code",
   "execution_count": null,
   "id": "e4c347b8",
   "metadata": {
    "papermill": {
     "duration": 0.001846,
     "end_time": "2024-01-01T08:43:50.387522",
     "exception": false,
     "start_time": "2024-01-01T08:43:50.385676",
     "status": "completed"
    },
    "tags": []
   },
   "outputs": [],
   "source": []
  }
 ],
 "metadata": {
  "kaggle": {
   "accelerator": "none",
   "dataSources": [
    {
     "datasetId": 4052974,
     "sourceId": 7044616,
     "sourceType": "datasetVersion"
    }
   ],
   "isGpuEnabled": false,
   "isInternetEnabled": true,
   "language": "python",
   "sourceType": "notebook"
  },
  "kernelspec": {
   "display_name": "Python 3",
   "language": "python",
   "name": "python3"
  },
  "language_info": {
   "codemirror_mode": {
    "name": "ipython",
    "version": 3
   },
   "file_extension": ".py",
   "mimetype": "text/x-python",
   "name": "python",
   "nbconvert_exporter": "python",
   "pygments_lexer": "ipython3",
   "version": "3.10.12"
  },
  "papermill": {
   "default_parameters": {},
   "duration": 4.928259,
   "end_time": "2024-01-01T08:43:50.810637",
   "environment_variables": {},
   "exception": null,
   "input_path": "__notebook__.ipynb",
   "output_path": "__notebook__.ipynb",
   "parameters": {},
   "start_time": "2024-01-01T08:43:45.882378",
   "version": "2.4.0"
  }
 },
 "nbformat": 4,
 "nbformat_minor": 5
}
